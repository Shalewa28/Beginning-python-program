{
  "cells": [
    {
      "cell_type": "code",
      "execution_count": null,
      "metadata": {
        "id": "9txp7OL8DCdP"
      },
      "outputs": [],
      "source": [
        "# This code comes from Chapter 5 of: Matthes, E. (2023). Python Crash Course (3rd ed.). No Starch Press.\n",
        "\n",
        "# List of current users in the system\n",
        "current_users = [\"Alice\", \"Bob\", \"Charlie\", \"David\", \"Eve\"]\n",
        "\n",
        "# New users who want to register\n",
        "new_users = [\"Charlie\", \"Eve\", \"Frank\", \"Grace\", \"Henry\"]\n",
        "\n",
        "# Convert current_users to lowercase for case-insensitive comparison\n",
        "current_users_lower = [user.lower() for user in current_users]\n",
        "\n",
        "# Check each new user\n",
        "for new_user in new_users:\n",
        "    if new_user.lower() in current_users_lower:\n",
        "        print(f\"Sorry, the username '{new_user}' is already taken. Please choose a different one.\")\n",
        "    else:\n",
        "        print(f\"The username '{new_user}' is available!\")"
      ]
    }
  ],
  "metadata": {
    "colab": {
      "provenance": []
    },
    "kernelspec": {
      "display_name": "Python 3",
      "name": "python3"
    },
    "language_info": {
      "name": "python"
    }
  },
  "nbformat": 4,
  "nbformat_minor": 0
}
